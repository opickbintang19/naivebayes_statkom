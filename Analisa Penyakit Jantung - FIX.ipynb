{
 "cells": [
  {
   "cell_type": "markdown",
   "metadata": {},
   "source": [
    "# Library\n",
    "Library yang digunakan ialah :\n",
    "1. Pandas = untuk visualisasi data excel\n",
    "2. Math = untuk operasi matematika"
   ]
  },
  {
   "cell_type": "code",
   "execution_count": 24,
   "metadata": {},
   "outputs": [],
   "source": [
    "import pandas as pd\n",
    "import math"
   ]
  },
  {
   "cell_type": "markdown",
   "metadata": {},
   "source": [
    "## Data Jenis Kelamin"
   ]
  },
  {
   "cell_type": "code",
   "execution_count": 25,
   "metadata": {
    "scrolled": true
   },
   "outputs": [
    {
     "data": {
      "text/html": [
       "<div>\n",
       "<style scoped>\n",
       "    .dataframe tbody tr th:only-of-type {\n",
       "        vertical-align: middle;\n",
       "    }\n",
       "\n",
       "    .dataframe tbody tr th {\n",
       "        vertical-align: top;\n",
       "    }\n",
       "\n",
       "    .dataframe thead th {\n",
       "        text-align: right;\n",
       "    }\n",
       "</style>\n",
       "<table border=\"1\" class=\"dataframe\">\n",
       "  <thead>\n",
       "    <tr style=\"text-align: right;\">\n",
       "      <th></th>\n",
       "      <th>Jenis Kelamin</th>\n",
       "      <th>Penyakit Jantung</th>\n",
       "    </tr>\n",
       "  </thead>\n",
       "  <tbody>\n",
       "    <tr>\n",
       "      <th>0</th>\n",
       "      <td>Laki-Laki</td>\n",
       "      <td>Ya</td>\n",
       "    </tr>\n",
       "    <tr>\n",
       "      <th>1</th>\n",
       "      <td>Laki-Laki</td>\n",
       "      <td>Ya</td>\n",
       "    </tr>\n",
       "    <tr>\n",
       "      <th>2</th>\n",
       "      <td>Laki-Laki</td>\n",
       "      <td>Ya</td>\n",
       "    </tr>\n",
       "    <tr>\n",
       "      <th>3</th>\n",
       "      <td>Laki-Laki</td>\n",
       "      <td>Ya</td>\n",
       "    </tr>\n",
       "    <tr>\n",
       "      <th>4</th>\n",
       "      <td>Laki-Laki</td>\n",
       "      <td>Ya</td>\n",
       "    </tr>\n",
       "    <tr>\n",
       "      <th>...</th>\n",
       "      <td>...</td>\n",
       "      <td>...</td>\n",
       "    </tr>\n",
       "    <tr>\n",
       "      <th>261</th>\n",
       "      <td>Perempuan</td>\n",
       "      <td>Tidak</td>\n",
       "    </tr>\n",
       "    <tr>\n",
       "      <th>262</th>\n",
       "      <td>Perempuan</td>\n",
       "      <td>Tidak</td>\n",
       "    </tr>\n",
       "    <tr>\n",
       "      <th>263</th>\n",
       "      <td>Perempuan</td>\n",
       "      <td>Tidak</td>\n",
       "    </tr>\n",
       "    <tr>\n",
       "      <th>264</th>\n",
       "      <td>Perempuan</td>\n",
       "      <td>Tidak</td>\n",
       "    </tr>\n",
       "    <tr>\n",
       "      <th>265</th>\n",
       "      <td>Perempuan</td>\n",
       "      <td>Tidak</td>\n",
       "    </tr>\n",
       "  </tbody>\n",
       "</table>\n",
       "<p>266 rows × 2 columns</p>\n",
       "</div>"
      ],
      "text/plain": [
       "    Jenis Kelamin Penyakit Jantung\n",
       "0       Laki-Laki               Ya\n",
       "1       Laki-Laki               Ya\n",
       "2       Laki-Laki               Ya\n",
       "3       Laki-Laki               Ya\n",
       "4       Laki-Laki               Ya\n",
       "..            ...              ...\n",
       "261     Perempuan            Tidak\n",
       "262     Perempuan            Tidak\n",
       "263     Perempuan            Tidak\n",
       "264     Perempuan            Tidak\n",
       "265     Perempuan            Tidak\n",
       "\n",
       "[266 rows x 2 columns]"
      ]
     },
     "execution_count": 25,
     "metadata": {},
     "output_type": "execute_result"
    }
   ],
   "source": [
    "df = pd.read_excel(\"dataJenisKelamin.xlsx\",\"Sheet1\")\n",
    "df"
   ]
  },
  {
   "cell_type": "markdown",
   "metadata": {},
   "source": [
    "## Membandingkan data jenis kelamin pasien yang terkena dan tidak terkena penyakit jantung"
   ]
  },
  {
   "cell_type": "code",
   "execution_count": 26,
   "metadata": {},
   "outputs": [
    {
     "data": {
      "text/html": [
       "<div>\n",
       "<style scoped>\n",
       "    .dataframe tbody tr th:only-of-type {\n",
       "        vertical-align: middle;\n",
       "    }\n",
       "\n",
       "    .dataframe tbody tr th {\n",
       "        vertical-align: top;\n",
       "    }\n",
       "\n",
       "    .dataframe thead th {\n",
       "        text-align: right;\n",
       "    }\n",
       "</style>\n",
       "<table border=\"1\" class=\"dataframe\">\n",
       "  <thead>\n",
       "    <tr style=\"text-align: right;\">\n",
       "      <th>Penyakit Jantung</th>\n",
       "      <th>Tidak</th>\n",
       "      <th>Ya</th>\n",
       "    </tr>\n",
       "    <tr>\n",
       "      <th>Jenis Kelamin</th>\n",
       "      <th></th>\n",
       "      <th></th>\n",
       "    </tr>\n",
       "  </thead>\n",
       "  <tbody>\n",
       "    <tr>\n",
       "      <th>Laki-Laki</th>\n",
       "      <td>62</td>\n",
       "      <td>90</td>\n",
       "    </tr>\n",
       "    <tr>\n",
       "      <th>Perempuan</th>\n",
       "      <td>71</td>\n",
       "      <td>43</td>\n",
       "    </tr>\n",
       "  </tbody>\n",
       "</table>\n",
       "</div>"
      ],
      "text/plain": [
       "Penyakit Jantung  Tidak  Ya\n",
       "Jenis Kelamin              \n",
       "Laki-Laki            62  90\n",
       "Perempuan            71  43"
      ]
     },
     "execution_count": 26,
     "metadata": {},
     "output_type": "execute_result"
    }
   ],
   "source": [
    "pd.crosstab(df['Jenis Kelamin'],df['Penyakit Jantung'])"
   ]
  },
  {
   "cell_type": "markdown",
   "metadata": {},
   "source": [
    "## Data Probabilitas Masing-Masing Atribut dan Kategori"
   ]
  },
  {
   "cell_type": "code",
   "execution_count": 27,
   "metadata": {},
   "outputs": [
    {
     "data": {
      "text/html": [
       "<div>\n",
       "<style scoped>\n",
       "    .dataframe tbody tr th:only-of-type {\n",
       "        vertical-align: middle;\n",
       "    }\n",
       "\n",
       "    .dataframe tbody tr th {\n",
       "        vertical-align: top;\n",
       "    }\n",
       "\n",
       "    .dataframe thead th {\n",
       "        text-align: right;\n",
       "    }\n",
       "</style>\n",
       "<table border=\"1\" class=\"dataframe\">\n",
       "  <thead>\n",
       "    <tr style=\"text-align: right;\">\n",
       "      <th></th>\n",
       "      <th>Atribut</th>\n",
       "      <th>Kategori</th>\n",
       "      <th>Probabilitas ( Ya )</th>\n",
       "      <th>Probabilitas ( Tidak )</th>\n",
       "    </tr>\n",
       "  </thead>\n",
       "  <tbody>\n",
       "    <tr>\n",
       "      <th>0</th>\n",
       "      <td>Jenis Kelamin</td>\n",
       "      <td>Laki-Laki</td>\n",
       "      <td>0.677</td>\n",
       "      <td>0.466</td>\n",
       "    </tr>\n",
       "    <tr>\n",
       "      <th>1</th>\n",
       "      <td></td>\n",
       "      <td>Perempuan</td>\n",
       "      <td>0.323</td>\n",
       "      <td>0.534</td>\n",
       "    </tr>\n",
       "    <tr>\n",
       "      <th>2</th>\n",
       "      <td>Kadar Kolesterol</td>\n",
       "      <td>Ya</td>\n",
       "      <td>0.654</td>\n",
       "      <td>0.278</td>\n",
       "    </tr>\n",
       "    <tr>\n",
       "      <th>3</th>\n",
       "      <td></td>\n",
       "      <td>Tidak</td>\n",
       "      <td>0.346</td>\n",
       "      <td>0.722</td>\n",
       "    </tr>\n",
       "    <tr>\n",
       "      <th>4</th>\n",
       "      <td>Tekanan Darah</td>\n",
       "      <td>Rendah</td>\n",
       "      <td>0.308</td>\n",
       "      <td>0.346</td>\n",
       "    </tr>\n",
       "    <tr>\n",
       "      <th>5</th>\n",
       "      <td></td>\n",
       "      <td>Normal</td>\n",
       "      <td>0.226</td>\n",
       "      <td>0.398</td>\n",
       "    </tr>\n",
       "    <tr>\n",
       "      <th>6</th>\n",
       "      <td></td>\n",
       "      <td>Tinggi</td>\n",
       "      <td>0.466</td>\n",
       "      <td>0.256</td>\n",
       "    </tr>\n",
       "    <tr>\n",
       "      <th>7</th>\n",
       "      <td>Riwayat Penyakit Jantung Orang Tua</td>\n",
       "      <td>Ya</td>\n",
       "      <td>0.571</td>\n",
       "      <td>0.323</td>\n",
       "    </tr>\n",
       "    <tr>\n",
       "      <th>8</th>\n",
       "      <td></td>\n",
       "      <td>Tidak</td>\n",
       "      <td>0.429</td>\n",
       "      <td>0.677</td>\n",
       "    </tr>\n",
       "    <tr>\n",
       "      <th>9</th>\n",
       "      <td>Diabetes Melitus</td>\n",
       "      <td>Ya</td>\n",
       "      <td>0.586</td>\n",
       "      <td>0.361</td>\n",
       "    </tr>\n",
       "    <tr>\n",
       "      <th>10</th>\n",
       "      <td></td>\n",
       "      <td>Tidak</td>\n",
       "      <td>0.414</td>\n",
       "      <td>0.369</td>\n",
       "    </tr>\n",
       "    <tr>\n",
       "      <th>11</th>\n",
       "      <td>Obesitas</td>\n",
       "      <td>Ya</td>\n",
       "      <td>0.504</td>\n",
       "      <td>0.376</td>\n",
       "    </tr>\n",
       "    <tr>\n",
       "      <th>12</th>\n",
       "      <td></td>\n",
       "      <td>Tidak</td>\n",
       "      <td>0.496</td>\n",
       "      <td>0.624</td>\n",
       "    </tr>\n",
       "    <tr>\n",
       "      <th>13</th>\n",
       "      <td>Dislipidemia</td>\n",
       "      <td>Sangat Rendah</td>\n",
       "      <td>0.038</td>\n",
       "      <td>0.398</td>\n",
       "    </tr>\n",
       "    <tr>\n",
       "      <th>14</th>\n",
       "      <td></td>\n",
       "      <td>Rendah</td>\n",
       "      <td>0.120</td>\n",
       "      <td>0.226</td>\n",
       "    </tr>\n",
       "    <tr>\n",
       "      <th>15</th>\n",
       "      <td></td>\n",
       "      <td>Normal</td>\n",
       "      <td>0.233</td>\n",
       "      <td>0.188</td>\n",
       "    </tr>\n",
       "    <tr>\n",
       "      <th>16</th>\n",
       "      <td></td>\n",
       "      <td>Tinggi</td>\n",
       "      <td>0.301</td>\n",
       "      <td>0.120</td>\n",
       "    </tr>\n",
       "    <tr>\n",
       "      <th>17</th>\n",
       "      <td></td>\n",
       "      <td>Sangat Tinggi</td>\n",
       "      <td>0.308</td>\n",
       "      <td>0.068</td>\n",
       "    </tr>\n",
       "    <tr>\n",
       "      <th>18</th>\n",
       "      <td>Penyakit Jantung</td>\n",
       "      <td></td>\n",
       "      <td>0.500</td>\n",
       "      <td>0.500</td>\n",
       "    </tr>\n",
       "  </tbody>\n",
       "</table>\n",
       "</div>"
      ],
      "text/plain": [
       "                               Atribut       Kategori  Probabilitas ( Ya )  \\\n",
       "0                        Jenis Kelamin      Laki-Laki                0.677   \n",
       "1                                           Perempuan                0.323   \n",
       "2                     Kadar Kolesterol             Ya                0.654   \n",
       "3                                               Tidak                0.346   \n",
       "4                        Tekanan Darah         Rendah                0.308   \n",
       "5                                              Normal                0.226   \n",
       "6                                              Tinggi                0.466   \n",
       "7   Riwayat Penyakit Jantung Orang Tua             Ya                0.571   \n",
       "8                                               Tidak                0.429   \n",
       "9                     Diabetes Melitus             Ya                0.586   \n",
       "10                                              Tidak                0.414   \n",
       "11                            Obesitas             Ya                0.504   \n",
       "12                                              Tidak                0.496   \n",
       "13                        Dislipidemia  Sangat Rendah                0.038   \n",
       "14                                             Rendah                0.120   \n",
       "15                                             Normal                0.233   \n",
       "16                                             Tinggi                0.301   \n",
       "17                                      Sangat Tinggi                0.308   \n",
       "18                    Penyakit Jantung                               0.500   \n",
       "\n",
       "    Probabilitas ( Tidak )  \n",
       "0                    0.466  \n",
       "1                    0.534  \n",
       "2                    0.278  \n",
       "3                    0.722  \n",
       "4                    0.346  \n",
       "5                    0.398  \n",
       "6                    0.256  \n",
       "7                    0.323  \n",
       "8                    0.677  \n",
       "9                    0.361  \n",
       "10                   0.369  \n",
       "11                   0.376  \n",
       "12                   0.624  \n",
       "13                   0.398  \n",
       "14                   0.226  \n",
       "15                   0.188  \n",
       "16                   0.120  \n",
       "17                   0.068  \n",
       "18                   0.500  "
      ]
     },
     "execution_count": 27,
     "metadata": {},
     "output_type": "execute_result"
    }
   ],
   "source": [
    "data = pd.read_excel(\"dataProbabilitas.xlsx\",\"Sheet1\")\n",
    "new_df = data.fillna(\" \")\n",
    "new_df"
   ]
  },
  {
   "cell_type": "markdown",
   "metadata": {},
   "source": [
    "# Data Pasien\n",
    "1. Jenis Kelamin : Laki-Laki\n",
    "2. Umur : 47\n",
    "3. Kolesterol : Tidak\n",
    "4. Tekanan Darah : Normal\n",
    "5. Riwayat Penyakit Jantung Orang Tua : Ya\n",
    "6. Diabetes : Ya\n",
    "7. Obesitas : Ya ( 159 cm / 70 kg )\n",
    "8. Dislipidemia : Tinggi"
   ]
  },
  {
   "cell_type": "markdown",
   "metadata": {},
   "source": [
    "# Input"
   ]
  },
  {
   "cell_type": "code",
   "execution_count": 28,
   "metadata": {},
   "outputs": [
    {
     "name": "stdout",
     "output_type": "stream",
     "text": [
      "Selamat datang di RSUD AWS\n",
      "Masukkan data anda untuk didiagnosa\n",
      "-------------------------\n",
      "Pilih Jenis Kelamin\n",
      "1.Laki-laki\n",
      "2.Perempuan\n",
      "\n",
      "Jenis Kelamin : 1\n",
      "-------------------------\n",
      "Masukkan Umur : 47\n",
      "-------------------------\n",
      "Apakah Anda Kolesterol ?\n",
      "1.Ya\n",
      "2.Tidak\n",
      "\n",
      "Kolesterol : 2\n",
      "-------------------------\n",
      "Bagaimana Tekanan Darah Anda ?\n",
      "1.Rendah\n",
      "2.Normal\n",
      "3.Tinggi\n",
      "\n",
      "Tekanan Darah Anda : 2\n",
      "-------------------------\n",
      "Apakah Anda Memiliki Riwayat Penyakit Jantung dari Orang Tua ?\n",
      "1.Ya\n",
      "2.Tidak\n",
      "\n",
      "Penyakit Jantung : 1\n",
      "-------------------------\n",
      "Apakah Anda Memiliki Penyakit Diabetes Melitus ?\n",
      "1.Ya\n",
      "2.Tidak\n",
      "\n",
      "Diabetes Melitus : 1\n",
      "-------------------------\n",
      "Menghitung Tinggi dan Berat Badan\n",
      "Data ini digunakan untuk menentukan BMI anda\n",
      "Berat ... Kg : 70\n",
      "Tinggi ... cm : 159\n",
      "\n",
      "-------------------------\n",
      "Kategori Dislipidemia :\n",
      "1. Sangat Rendah\n",
      "2. Rendah\n",
      "3. Normal\n",
      "4. Tinggi\n",
      "5. Sangat Tinggi\n",
      "\n",
      "Kategori Dislipidemia : 4\n",
      "-------------------------\n"
     ]
    }
   ],
   "source": [
    "def garis():\n",
    "    print(\"-\"*25)\n",
    "\n",
    "def rumahSakit():\n",
    "    print(\"Selamat datang di RSUD AWS\")\n",
    "    print(\"Masukkan data anda untuk didiagnosa\")\n",
    "    \n",
    "rumahSakit()\n",
    "garis()\n",
    "# F1    \n",
    "print(\"Pilih Jenis Kelamin\")\n",
    "print(\"1.Laki-laki\")\n",
    "print(\"2.Perempuan\")\n",
    "print()\n",
    "f1 = int(input(\"Jenis Kelamin : \"))\n",
    "garis()\n",
    "\n",
    "# F2\n",
    "umur = int(input(\"Masukkan Umur : \"))\n",
    "garis()\n",
    "\n",
    "# F3\n",
    "print(\"Apakah Anda Kolesterol ?\")\n",
    "print(\"1.Ya\")\n",
    "print(\"2.Tidak\")\n",
    "print()\n",
    "f3 = int(input(\"Kolesterol : \"))\n",
    "garis()\n",
    "\n",
    "# F4\n",
    "print(\"Bagaimana Tekanan Darah Anda ?\")\n",
    "print(\"1.Rendah\")\n",
    "print(\"2.Normal\")\n",
    "print(\"3.Tinggi\")\n",
    "print()\n",
    "f4 = int(input(\"Tekanan Darah Anda : \"))\n",
    "garis()\n",
    "\n",
    "# F5\n",
    "print(\"Apakah Anda Memiliki Riwayat Penyakit Jantung dari Orang Tua ?\")\n",
    "print(\"1.Ya\")\n",
    "print(\"2.Tidak\")\n",
    "print()\n",
    "f5 = int(input(\"Penyakit Jantung : \"))\n",
    "garis()\n",
    "\n",
    "# F6\n",
    "print(\"Apakah Anda Memiliki Penyakit Diabetes Melitus ?\")\n",
    "print(\"1.Ya\")\n",
    "print(\"2.Tidak\")\n",
    "print()\n",
    "f6 = int(input(\"Diabetes Melitus : \"))\n",
    "garis()\n",
    "\n",
    "# F7\n",
    "print(\"Menghitung Tinggi dan Berat Badan\")\n",
    "print(\"Data ini digunakan untuk menentukan BMI anda\")\n",
    "berat = float(input(\"Berat ... Kg : \"))\n",
    "tinggi = float(input(\"Tinggi ... cm : \"))\n",
    "print()\n",
    "garis()\n",
    "\n",
    "#F8\n",
    "print(\"Kategori Dislipidemia :\")\n",
    "print(\"1. Sangat Rendah\")\n",
    "print(\"2. Rendah\")\n",
    "print(\"3. Normal\")\n",
    "print(\"4. Tinggi\")\n",
    "print(\"5. Sangat Tinggi\")\n",
    "print()\n",
    "f8 = int(input(\"Kategori Dislipidemia : \"))\n",
    "garis()"
   ]
  },
  {
   "cell_type": "markdown",
   "metadata": {},
   "source": [
    "# Penyakit Jantung"
   ]
  },
  {
   "cell_type": "code",
   "execution_count": 29,
   "metadata": {},
   "outputs": [],
   "source": [
    "def jantung():\n",
    "    return pya,pti\n",
    "\n",
    "pya = 0.5\n",
    "pti = 0.5"
   ]
  },
  {
   "cell_type": "markdown",
   "metadata": {},
   "source": [
    "# F1 | Jenis Kelamin"
   ]
  },
  {
   "cell_type": "code",
   "execution_count": 30,
   "metadata": {},
   "outputs": [],
   "source": [
    "def p_jk():\n",
    "    return f1_ya,f1_ti\n",
    "\n",
    "if f1 == 1:\n",
    "    # Laki-Laki\n",
    "    f1_ya = 0.677\n",
    "    f1_ti = 0.466\n",
    "else:\n",
    "    # Perempuan\n",
    "    f1_ya = 0.323\n",
    "    f1_ti = 0.534"
   ]
  },
  {
   "cell_type": "markdown",
   "metadata": {},
   "source": [
    "# F2 | Umur"
   ]
  },
  {
   "cell_type": "markdown",
   "metadata": {},
   "source": [
    "## Rumus Densitas Gauss"
   ]
  },
  {
   "attachments": {
    "densitasGauss.png": {
     "image/png": "[encoded data removed]"
    }
   },
   "cell_type": "markdown",
   "metadata": {},
   "source": [
    "![densitasGauss.png](attachment:densitasGauss.png)"
   ]
  },
  {
   "cell_type": "code",
   "execution_count": 31,
   "metadata": {},
   "outputs": [],
   "source": [
    "def p_umur():\n",
    "    return f2_ya,f2_ti\n",
    "\n",
    "# Umur = Ya\n",
    "mean_ya = 55.5\n",
    "var_ya = 112.7\n",
    "std_ya = 10.6\n",
    "\n",
    "# Umur = Tidak\n",
    "mean_tdk = 31.5\n",
    "var_tdk = 259.008\n",
    "std_tdk = 16.094\n",
    "\n",
    "# densitas gauss\n",
    "f2_ya =  (1 * 2.718**((umur-mean_ya)**2/(2*var_ya)) / (std_ya*math.sqrt(2*3.14)))\n",
    "f2_ti = (1 * 2.718**((umur-mean_tdk)**2/(2*var_tdk)) / (std_tdk*math.sqrt(2*3.14)))"
   ]
  },
  {
   "cell_type": "markdown",
   "metadata": {},
   "source": [
    "# F3 | Kolesterol"
   ]
  },
  {
   "cell_type": "code",
   "execution_count": 32,
   "metadata": {},
   "outputs": [],
   "source": [
    "def p_kolesterol():\n",
    "    return f3_ya,f3_ti\n",
    "\n",
    "if f3 == 1:\n",
    "    # Kolesterol = Ya\n",
    "    f3_ya = 0.654\n",
    "    f3_ti = 0.278\n",
    "    \n",
    "else :\n",
    "    # Kolesterol = Tidak\n",
    "    f3_ya = 0.346\n",
    "    f3_ti = 0.722"
   ]
  },
  {
   "cell_type": "markdown",
   "metadata": {},
   "source": [
    "# F4 | Tekanan Darah"
   ]
  },
  {
   "cell_type": "code",
   "execution_count": 33,
   "metadata": {},
   "outputs": [],
   "source": [
    "def p_td():\n",
    "    return f4_ya,f4_ti\n",
    "\n",
    "if f4 == 1:\n",
    "    # Tekanan Darah = Rendah\n",
    "    f4_ya = 0.308\n",
    "    f4_ti = 0.346\n",
    "    \n",
    "elif f4 == 2 :\n",
    "    # Tekanan Darah = Normal\n",
    "    f4_ya = 0.226\n",
    "    f4_ti = 0.398\n",
    "    \n",
    "else :\n",
    "    # Tekanan Darah = Tinggi\n",
    "    f4_ya = 0.466\n",
    "    f4_ti = 0.256"
   ]
  },
  {
   "cell_type": "markdown",
   "metadata": {},
   "source": [
    "# F5 | Riwayat Penyakit Jantung Orang Tua"
   ]
  },
  {
   "cell_type": "code",
   "execution_count": 34,
   "metadata": {
    "scrolled": true
   },
   "outputs": [],
   "source": [
    "def p_jantungOrtu():\n",
    "    return f5_ya,f5_ti\n",
    "\n",
    "if f5 == 1:\n",
    "    # Jantung Orang Tua = Ya\n",
    "    f5_ya = 0.571\n",
    "    f5_ti = 0.323\n",
    "    \n",
    "else :\n",
    "    # Jantung Orang Tua = Tidak\n",
    "    f5_ya = 0.429\n",
    "    f5_ti = 0.677"
   ]
  },
  {
   "cell_type": "markdown",
   "metadata": {},
   "source": [
    "# F6 | Diabetes Melitus"
   ]
  },
  {
   "cell_type": "code",
   "execution_count": 35,
   "metadata": {},
   "outputs": [],
   "source": [
    "def p_diabetes():\n",
    "    return f6_ya,f6_ti\n",
    "\n",
    "if f6 == 1:\n",
    "    # Diabetes Melitus = Ya\n",
    "    f6_ya = 0.586\n",
    "    f6_ti = 0.361\n",
    "\n",
    "else :\n",
    "    # Diabetes Melitus = Tidak\n",
    "    f6_ya = 0.414\n",
    "    f6_ti = 0.369"
   ]
  },
  {
   "cell_type": "markdown",
   "metadata": {},
   "source": [
    "# F7 | Obesitas"
   ]
  },
  {
   "cell_type": "code",
   "execution_count": 36,
   "metadata": {},
   "outputs": [
    {
     "name": "stdout",
     "output_type": "stream",
     "text": [
      "Anda obesitas\n"
     ]
    }
   ],
   "source": [
    "def p_obesitas():\n",
    "    return f7_ya,f7_ti\n",
    "\n",
    "tinggi_M = tinggi/100\n",
    "\n",
    "# Rumus BMI\n",
    "f7 = berat/tinggi_M**2\n",
    "\n",
    "if f7 <= 24.9 :\n",
    "    # Tidak Obesitas\n",
    "    print(\"Anda tidak obesitas\")\n",
    "    f7_ya = 0.496\n",
    "    f7_ti = 0.624\n",
    "    \n",
    "else :\n",
    "    # Obesitas\n",
    "    print(\"Anda obesitas\")\n",
    "    f7_ya = 0.504\n",
    "    f7_ti = 0.376"
   ]
  },
  {
   "cell_type": "markdown",
   "metadata": {},
   "source": [
    "# F8 | Dislipidemia"
   ]
  },
  {
   "cell_type": "code",
   "execution_count": 37,
   "metadata": {},
   "outputs": [],
   "source": [
    "def p_dislipidemia():\n",
    "    return f8_ya,f8_ti\n",
    "\n",
    "if f8 == 1:\n",
    "    # Sangat Rendah\n",
    "    f8_ya = 0.038\n",
    "    f8_ti = 0.398\n",
    "    \n",
    "elif f8 == 2:\n",
    "    # Rendah\n",
    "    f8_ya = 0.120\n",
    "    f8_ti = 0.226\n",
    "    \n",
    "elif f8 == 3:\n",
    "    # Normal\n",
    "    f8_ya = 0.233\n",
    "    f8_ti = 0.188\n",
    "    \n",
    "elif f8 == 4:\n",
    "    # Tinggi\n",
    "    f8_ya = 0.301\n",
    "    f8_ti = 0.120\n",
    "    \n",
    "else :\n",
    "    # Sangat Tinggi\n",
    "    f8_ya = 0.308\n",
    "    f8_ti = 0.068"
   ]
  },
  {
   "cell_type": "markdown",
   "metadata": {},
   "source": [
    "# Output"
   ]
  },
  {
   "cell_type": "code",
   "execution_count": 38,
   "metadata": {},
   "outputs": [
    {
     "name": "stdout",
     "output_type": "stream",
     "text": [
      "Perbandingan Probabilitas Terkena Penyakit Jantung Ya dan Tidak\n",
      "---------------------------------------------------------------------------\n",
      "Penyakit Jantung  = Ya | Tidak =  (0.5, 0.5)\n",
      "Jenis Kelamin     = Ya | Tidak =  (0.677, 0.466)\n",
      "Umur              = Ya | Tidak =  (0.05186915577884843, 0.03942359254673486)\n",
      "Kolesterol        = Ya | Tidak =  (0.346, 0.722)\n",
      "Tekanan Darah     = Ya | Tidak =  (0.226, 0.398)\n",
      "Jantung Orang Tua = Ya | Tidak =  (0.571, 0.323)\n",
      "Diabetes Melitus  = Ya | Tidak =  (0.586, 0.361)\n",
      "Obesitas          = Ya | Tidak =  (0.504, 0.376)\n",
      "Dislipidemia      = Ya | Tidak =  (0.301, 0.12)\n"
     ]
    }
   ],
   "source": [
    "print(\"Perbandingan Probabilitas Terkena Penyakit Jantung Ya dan Tidak\")\n",
    "print(\"-\"*75)\n",
    "print(\"Penyakit Jantung  = Ya | Tidak = \",jantung())\n",
    "print(\"Jenis Kelamin     = Ya | Tidak = \",p_jk())\n",
    "print(\"Umur              = Ya | Tidak = \",p_umur())\n",
    "print(\"Kolesterol        = Ya | Tidak = \",p_kolesterol())\n",
    "print(\"Tekanan Darah     = Ya | Tidak = \",p_td())\n",
    "print(\"Jantung Orang Tua = Ya | Tidak = \",p_jantungOrtu())\n",
    "print(\"Diabetes Melitus  = Ya | Tidak = \",p_diabetes())\n",
    "print(\"Obesitas          = Ya | Tidak = \",p_obesitas())\n",
    "print(\"Dislipidemia      = Ya | Tidak = \",p_dislipidemia())"
   ]
  },
  {
   "cell_type": "markdown",
   "metadata": {},
   "source": [
    "# Hasil"
   ]
  },
  {
   "cell_type": "code",
   "execution_count": 39,
   "metadata": {
    "scrolled": true
   },
   "outputs": [
    {
     "name": "stdout",
     "output_type": "stream",
     "text": [
      "Hasil\n",
      "Kemungkinan Ya = 0.00006969\n",
      "Kemungkinan Tidak = 0.00001389\n",
      "\n",
      "Potensi anda terkena penyakit jantung = BESAR\n",
      "Anda harus rajin berobat dan kontrol ke dokter jantung\n"
     ]
    }
   ],
   "source": [
    "prob_ya    = pya*f1_ya*f2_ya*f3_ya*f4_ya*f5_ya*f6_ya*f7_ya*f8_ya\n",
    "prob_tidak = pti*f1_ti*f2_ti*f3_ti*f4_ti*f5_ti*f6_ti*f7_ti*f8_ti\n",
    "\n",
    "ya = f'Kemungkinan Ya = {prob_ya:.8f}'\n",
    "tidak = f'Kemungkinan Tidak = {prob_tidak:.8f}'\n",
    "\n",
    "print(\"Hasil\")\n",
    "print(ya)\n",
    "print(tidak)\n",
    "print()\n",
    "if prob_ya > prob_tidak :\n",
    "    print(\"Potensi anda terkena penyakit jantung = BESAR\")\n",
    "    print(\"Anda harus rajin berobat dan kontrol ke dokter jantung\")\n",
    "else :\n",
    "    print(\"Potensi anda terkena penyakit jantung = KECIL\")\n",
    "    print(\"Tetap jaga pola makan dan rajin berolahraga\")"
   ]
  },
  {
   "cell_type": "code",
   "execution_count": null,
   "metadata": {},
   "outputs": [],
   "source": []
  }
 ],
 "metadata": {
  "kernelspec": {
   "display_name": "Python 3",
   "language": "python",
   "name": "python3"
  },
  "language_info": {
   "codemirror_mode": {
    "name": "ipython",
    "version": 3
   },
   "file_extension": ".py",
   "mimetype": "text/x-python",
   "name": "python",
   "nbconvert_exporter": "python",
   "pygments_lexer": "ipython3",
   "version": "3.8.5"
  }
 },
 "nbformat": 4,
 "nbformat_minor": 4
}
